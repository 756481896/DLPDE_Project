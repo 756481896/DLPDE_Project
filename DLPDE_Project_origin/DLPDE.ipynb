{
 "cells": [
  {
   "cell_type": "code",
   "execution_count": 1,
   "metadata": {},
   "outputs": [],
   "source": [
    "%load_ext autoreload\n",
    "%autoreload 2"
   ]
  },
  {
   "cell_type": "code",
   "execution_count": 8,
   "metadata": {},
   "outputs": [],
   "source": [
    "import tensorflow as tf\n",
    "from data_loader.data_loader import *\n",
    "from models.DLPDE_Model import *\n",
    "from trainers.Trainer import *\n",
    "from utils.config import *\n",
    "from utils.dirs import *\n",
    "from utils.utils import get_args\n",
    "from utils.logger import Logger\n",
    "import pickle\n",
    "import math\n",
    "import os\n",
    "import random\n",
    "import sys\n",
    "import time\n",
    "import random\n",
    "import json\n",
    "import kenlm \n",
    "import numpy as np\n",
    "from six.moves import xrange\n",
    "import tensorflow as tf\n",
    "import os\n",
    "import logging\n",
    "import numpy as np\n",
    "logging.basicConfig(level=logging.INFO)\n",
    "import pdb\n",
    "tf_config = tf.ConfigProto(allow_soft_placement = True)\n",
    "tf_config.gpu_options.allow_growth = True\n",
    "os.environ[\"CUDA_VISIBLE_DEVICES\"] = \"\"\n"
   ]
  },
  {
   "cell_type": "code",
   "execution_count": 9,
   "metadata": {
    "collapsed": true
   },
   "outputs": [],
   "source": [
    "config = process_config('./configs/para.json')"
   ]
  },
  {
   "cell_type": "code",
   "execution_count": 10,
   "metadata": {},
   "outputs": [
    {
     "name": "stderr",
     "output_type": "stream",
     "text": [
      "INFO:root:Num params: 922\n"
     ]
    }
   ],
   "source": [
    "from data_loader.data_loader import *\n",
    "from models.DLPDE_Model import *\n",
    "from trainers.Trainer import *\n",
    "from utils.config import *\n",
    "from utils.dirs import *\n",
    "tf.reset_default_graph()\n",
    "sess = tf.Session(config = tf_config)\n",
    "# create instance of the model you want\n",
    "model = DLPDE_Model(config)"
   ]
  },
  {
   "cell_type": "code",
   "execution_count": 13,
   "metadata": {},
   "outputs": [],
   "source": [
    "train_data,test_data, input_train_extra = creat_dataset(config)"
   ]
  },
  {
   "cell_type": "code",
   "execution_count": 14,
   "metadata": {},
   "outputs": [],
   "source": [
    "logger = Logger(sess, config)"
   ]
  },
  {
   "cell_type": "code",
   "execution_count": 18,
   "metadata": {},
   "outputs": [],
   "source": [
    "from trainers.Trainer import *\n",
    "trainer = Trainer(sess, model, train_data, test_data, config, logger)"
   ]
  },
  {
   "cell_type": "code",
   "execution_count": 20,
   "metadata": {},
   "outputs": [
    {
     "name": "stderr",
     "output_type": "stream",
     "text": [
      "INFO:root:time 0.002321, epoch 0, step 40,sample 400, loss_sum 0.266128, loss_0 0.264194, loss_1 0.001935 exp_loss_sum 0.266128, exp_loss_0 0.264194, mean u 0.018434, mean v -1.726797, mean f -0.013507, learning_rate 0.003000, grad_norm 0.123177, param norm 6.879921\n",
      "INFO:root:time 0.001586, epoch 0, step 50,sample 500, loss_sum 0.040938, loss_0 0.037264, loss_1 0.003674 exp_loss_sum 0.040938, exp_loss_0 0.037264, mean u 0.102117, mean v -1.726797, mean f -0.047915, learning_rate 0.003000, grad_norm 0.367016, param norm 6.878895\n",
      "INFO:root:time 0.001581, epoch 0, step 60,sample 600, loss_sum 0.182842, loss_0 0.181400, loss_1 0.001442 exp_loss_sum 0.182842, exp_loss_0 0.181400, mean u 0.087795, mean v -1.726797, mean f -0.022245, learning_rate 0.003000, grad_norm 0.506016, param norm 6.878220\n",
      "INFO:root:time 0.001487, epoch 0, step 70,sample 700, loss_sum 0.092663, loss_0 0.091073, loss_1 0.001590 exp_loss_sum 0.092663, exp_loss_0 0.091073, mean u 0.108478, mean v -1.726797, mean f -0.029772, learning_rate 0.003000, grad_norm 0.472079, param norm 6.878880\n",
      "INFO:root:TEST:loss_sum 0.127666, loss_0 0.125644, loss_1 0.002022,mean u 0.083220, mean v -1.726797, mean f -0.019451, learning_rate 0.003000, grad_norm 0.369551, param norm 6.879930\n"
     ]
    },
    {
     "name": "stdout",
     "output_type": "stream",
     "text": [
      "saving...\n",
      "INFO:tensorflow:/data2/pengqiu/experiments/dlpde_4_17/checkpoint/train_0.ckpt-0 is not in all_model_checkpoint_paths. Manually adding it.\n"
     ]
    },
    {
     "name": "stderr",
     "output_type": "stream",
     "text": [
      "INFO:tensorflow:/data2/pengqiu/experiments/dlpde_4_17/checkpoint/train_0.ckpt-0 is not in all_model_checkpoint_paths. Manually adding it.\n"
     ]
    },
    {
     "name": "stdout",
     "output_type": "stream",
     "text": [
      "saved.\n"
     ]
    },
    {
     "name": "stderr",
     "output_type": "stream",
     "text": [
      "INFO:root:time 0.001615, epoch 1, step 80,sample 800, loss_sum 0.153788, loss_0 0.152676, loss_1 0.001112 exp_loss_sum 0.153788, exp_loss_0 0.152676, mean u 0.067681, mean v -1.726797, mean f -0.021089, learning_rate 0.003000, grad_norm 0.286891, param norm 6.880222\n",
      "INFO:root:time 0.001803, epoch 1, step 90,sample 900, loss_sum 0.164437, loss_0 0.163808, loss_1 0.000629 exp_loss_sum 0.164437, exp_loss_0 0.163808, mean u 0.082990, mean v -1.726797, mean f -0.014688, learning_rate 0.003000, grad_norm 0.306522, param norm 6.881783\n",
      "INFO:root:time 0.001700, epoch 1, step 100,sample 1000, loss_sum 0.339889, loss_0 0.339291, loss_1 0.000598 exp_loss_sum 0.339889, exp_loss_0 0.339291, mean u 0.080515, mean v -1.726797, mean f -0.008776, learning_rate 0.003000, grad_norm 0.247464, param norm 6.884768\n",
      "INFO:root:time 0.001592, epoch 1, step 110,sample 1100, loss_sum 0.146693, loss_0 0.143305, loss_1 0.003388 exp_loss_sum 0.146693, exp_loss_0 0.143305, mean u 0.103628, mean v -1.726797, mean f -0.045097, learning_rate 0.003000, grad_norm 0.406829, param norm 6.884663\n",
      "INFO:root:TEST:loss_sum 0.110386, loss_0 0.108143, loss_1 0.002243,mean u 0.102150, mean v -1.726797, mean f -0.025038, learning_rate 0.003000, grad_norm 0.316743, param norm 6.884752\n"
     ]
    },
    {
     "name": "stdout",
     "output_type": "stream",
     "text": [
      "saving...\n",
      "INFO:tensorflow:/data2/pengqiu/experiments/dlpde_4_17/checkpoint/train_0.ckpt-1 is not in all_model_checkpoint_paths. Manually adding it.\n"
     ]
    },
    {
     "name": "stderr",
     "output_type": "stream",
     "text": [
      "INFO:tensorflow:/data2/pengqiu/experiments/dlpde_4_17/checkpoint/train_0.ckpt-1 is not in all_model_checkpoint_paths. Manually adding it.\n"
     ]
    },
    {
     "name": "stdout",
     "output_type": "stream",
     "text": [
      "saved.\n"
     ]
    },
    {
     "name": "stderr",
     "output_type": "stream",
     "text": [
      "INFO:root:time 0.001448, epoch 2, step 120,sample 1200, loss_sum 0.256408, loss_0 0.253741, loss_1 0.002667 exp_loss_sum 0.256408, exp_loss_0 0.253741, mean u 0.023381, mean v -1.726797, mean f 0.008536, learning_rate 0.003000, grad_norm 0.284842, param norm 6.885146\n",
      "INFO:root:time 0.001377, epoch 2, step 130,sample 1300, loss_sum 0.293940, loss_0 0.292752, loss_1 0.001188 exp_loss_sum 0.293940, exp_loss_0 0.292752, mean u 0.103508, mean v -1.726797, mean f -0.021977, learning_rate 0.003000, grad_norm 0.298834, param norm 6.884975\n",
      "INFO:root:time 0.001317, epoch 2, step 140,sample 1400, loss_sum 0.158387, loss_0 0.156140, loss_1 0.002247 exp_loss_sum 0.158387, exp_loss_0 0.156140, mean u 0.114788, mean v -1.726797, mean f -0.014238, learning_rate 0.003000, grad_norm 0.371224, param norm 6.887501\n",
      "INFO:root:time 0.001362, epoch 2, step 150,sample 1500, loss_sum 0.159111, loss_0 0.156958, loss_1 0.002152 exp_loss_sum 0.159111, exp_loss_0 0.156958, mean u 0.139280, mean v -1.726797, mean f -0.038828, learning_rate 0.003000, grad_norm 1.379367, param norm 6.890918\n",
      "INFO:root:TEST:loss_sum 0.097258, loss_0 0.094989, loss_1 0.002269,mean u 0.115689, mean v -1.726797, mean f -0.006868, learning_rate 0.003000, grad_norm 0.273668, param norm 6.892514\n"
     ]
    },
    {
     "name": "stdout",
     "output_type": "stream",
     "text": [
      "saving...\n",
      "INFO:tensorflow:/data2/pengqiu/experiments/dlpde_4_17/checkpoint/train_0.ckpt-2 is not in all_model_checkpoint_paths. Manually adding it.\n"
     ]
    },
    {
     "name": "stderr",
     "output_type": "stream",
     "text": [
      "INFO:tensorflow:/data2/pengqiu/experiments/dlpde_4_17/checkpoint/train_0.ckpt-2 is not in all_model_checkpoint_paths. Manually adding it.\n"
     ]
    },
    {
     "name": "stdout",
     "output_type": "stream",
     "text": [
      "saved.\n"
     ]
    },
    {
     "name": "stderr",
     "output_type": "stream",
     "text": [
      "INFO:root:time 0.001861, epoch 3, step 160,sample 1600, loss_sum 0.241527, loss_0 0.239151, loss_1 0.002377 exp_loss_sum 0.241527, exp_loss_0 0.239151, mean u 0.194487, mean v -1.726797, mean f -0.005288, learning_rate 0.003000, grad_norm 0.277758, param norm 6.894618\n",
      "INFO:root:time 0.001915, epoch 3, step 170,sample 1700, loss_sum 0.140533, loss_0 0.139847, loss_1 0.000686 exp_loss_sum 0.140533, exp_loss_0 0.139847, mean u 0.100479, mean v -1.726797, mean f -0.011579, learning_rate 0.003000, grad_norm 0.580356, param norm 6.899853\n",
      "INFO:root:time 0.001690, epoch 3, step 180,sample 1800, loss_sum 0.235366, loss_0 0.234251, loss_1 0.001115 exp_loss_sum 0.235366, exp_loss_0 0.234251, mean u 0.103191, mean v -1.726797, mean f -0.019084, learning_rate 0.003000, grad_norm 0.298249, param norm 6.907106\n",
      "INFO:root:time 0.001663, epoch 3, step 190,sample 1900, loss_sum 0.060236, loss_0 0.059663, loss_1 0.000573 exp_loss_sum 0.060236, exp_loss_0 0.059663, mean u 0.077367, mean v -1.726797, mean f 0.004165, learning_rate 0.003000, grad_norm 0.321640, param norm 6.916358\n",
      "INFO:root:TEST:loss_sum 0.081832, loss_0 0.080660, loss_1 0.001172,mean u 0.134743, mean v -1.726797, mean f -0.020016, learning_rate 0.003000, grad_norm 0.189942, param norm 6.918151\n"
     ]
    },
    {
     "name": "stdout",
     "output_type": "stream",
     "text": [
      "saving...\n",
      "INFO:tensorflow:/data2/pengqiu/experiments/dlpde_4_17/checkpoint/train_0.ckpt-3 is not in all_model_checkpoint_paths. Manually adding it.\n"
     ]
    },
    {
     "name": "stderr",
     "output_type": "stream",
     "text": [
      "INFO:tensorflow:/data2/pengqiu/experiments/dlpde_4_17/checkpoint/train_0.ckpt-3 is not in all_model_checkpoint_paths. Manually adding it.\n"
     ]
    },
    {
     "name": "stdout",
     "output_type": "stream",
     "text": [
      "saved.\n"
     ]
    },
    {
     "name": "stderr",
     "output_type": "stream",
     "text": [
      "INFO:root:time 0.001445, epoch 4, step 200,sample 2000, loss_sum 0.120429, loss_0 0.119569, loss_1 0.000860 exp_loss_sum 0.120429, exp_loss_0 0.119569, mean u 0.154032, mean v -1.726797, mean f 0.003831, learning_rate 0.003000, grad_norm 0.279692, param norm 6.926246\n",
      "INFO:root:time 0.001753, epoch 4, step 210,sample 2100, loss_sum 0.044145, loss_0 0.043485, loss_1 0.000660 exp_loss_sum 0.044145, exp_loss_0 0.043485, mean u 0.045564, mean v -1.726797, mean f -0.016244, learning_rate 0.003000, grad_norm 0.255240, param norm 6.935747\n",
      "INFO:root:time 0.001809, epoch 4, step 220,sample 2200, loss_sum 0.112784, loss_0 0.112236, loss_1 0.000548 exp_loss_sum 0.112784, exp_loss_0 0.112236, mean u 0.105389, mean v -1.726797, mean f -0.000938, learning_rate 0.003000, grad_norm 0.100767, param norm 6.943649\n",
      "INFO:root:TEST:loss_sum 0.071700, loss_0 0.068778, loss_1 0.002921,mean u 0.146706, mean v -1.726797, mean f -0.018528, learning_rate 0.003000, grad_norm 0.148305, param norm 6.950879\n"
     ]
    },
    {
     "name": "stdout",
     "output_type": "stream",
     "text": [
      "saving...\n",
      "INFO:tensorflow:/data2/pengqiu/experiments/dlpde_4_17/checkpoint/train_0.ckpt-4 is not in all_model_checkpoint_paths. Manually adding it.\n"
     ]
    },
    {
     "name": "stderr",
     "output_type": "stream",
     "text": [
      "INFO:tensorflow:/data2/pengqiu/experiments/dlpde_4_17/checkpoint/train_0.ckpt-4 is not in all_model_checkpoint_paths. Manually adding it.\n"
     ]
    },
    {
     "name": "stdout",
     "output_type": "stream",
     "text": [
      "saved.\n"
     ]
    },
    {
     "name": "stderr",
     "output_type": "stream",
     "text": [
      "INFO:root:time 0.001838, epoch 5, step 230,sample 2300, loss_sum 0.254894, loss_0 0.252852, loss_1 0.002042 exp_loss_sum 0.254894, exp_loss_0 0.252852, mean u 0.069220, mean v -1.726797, mean f -0.014139, learning_rate 0.003000, grad_norm 0.170048, param norm 6.950879\n",
      "INFO:root:time 0.001673, epoch 5, step 240,sample 2400, loss_sum 0.011259, loss_0 0.010427, loss_1 0.000832 exp_loss_sum 0.011259, exp_loss_0 0.010427, mean u 0.147194, mean v -1.726797, mean f -0.008610, learning_rate 0.003000, grad_norm 0.696235, param norm 6.959790\n",
      "INFO:root:time 0.001618, epoch 5, step 250,sample 2500, loss_sum 0.163831, loss_0 0.163263, loss_1 0.000568 exp_loss_sum 0.163831, exp_loss_0 0.163263, mean u 0.046138, mean v -1.726797, mean f -0.008741, learning_rate 0.003000, grad_norm 0.199398, param norm 6.966748\n",
      "INFO:root:time 0.001604, epoch 5, step 260,sample 2600, loss_sum 0.050515, loss_0 0.049874, loss_1 0.000641 exp_loss_sum 0.050515, exp_loss_0 0.049874, mean u 0.135798, mean v -1.726797, mean f -0.012925, learning_rate 0.003000, grad_norm 0.492731, param norm 6.973526\n",
      "INFO:root:TEST:loss_sum 0.061719, loss_0 0.059638, loss_1 0.002081,mean u 0.153945, mean v -1.726797, mean f -0.015821, learning_rate 0.003000, grad_norm 0.137645, param norm 6.979251\n"
     ]
    },
    {
     "name": "stdout",
     "output_type": "stream",
     "text": [
      "saving...\n",
      "INFO:tensorflow:/data2/pengqiu/experiments/dlpde_4_17/checkpoint/train_0.ckpt-5 is not in all_model_checkpoint_paths. Manually adding it.\n"
     ]
    },
    {
     "name": "stderr",
     "output_type": "stream",
     "text": [
      "INFO:tensorflow:/data2/pengqiu/experiments/dlpde_4_17/checkpoint/train_0.ckpt-5 is not in all_model_checkpoint_paths. Manually adding it.\n"
     ]
    },
    {
     "name": "stdout",
     "output_type": "stream",
     "text": [
      "saved.\n"
     ]
    },
    {
     "name": "stderr",
     "output_type": "stream",
     "text": [
      "INFO:root:time 0.001503, epoch 6, step 270,sample 2700, loss_sum 0.147703, loss_0 0.147453, loss_1 0.000251 exp_loss_sum 0.147703, exp_loss_0 0.147453, mean u 0.063094, mean v -1.726797, mean f -0.010018, learning_rate 0.003000, grad_norm 0.359479, param norm 6.981218\n",
      "INFO:root:time 0.001786, epoch 6, step 280,sample 2800, loss_sum 0.116254, loss_0 0.115457, loss_1 0.000798 exp_loss_sum 0.116254, exp_loss_0 0.115457, mean u 0.134046, mean v -1.726797, mean f -0.000259, learning_rate 0.003000, grad_norm 0.232085, param norm 6.990476\n",
      "INFO:root:time 0.001574, epoch 6, step 290,sample 2900, loss_sum 0.285617, loss_0 0.285418, loss_1 0.000198 exp_loss_sum 0.285617, exp_loss_0 0.285418, mean u 0.083041, mean v -1.726797, mean f -0.008908, learning_rate 0.003000, grad_norm 0.112974, param norm 6.998662\n",
      "INFO:root:time 0.001625, epoch 6, step 300,sample 3000, loss_sum 0.121298, loss_0 0.119770, loss_1 0.001528 exp_loss_sum 0.121298, exp_loss_0 0.119770, mean u 0.058140, mean v -1.726797, mean f -0.026139, learning_rate 0.003000, grad_norm 0.081904, param norm 7.007195\n",
      "INFO:root:TEST:loss_sum 0.054531, loss_0 0.052542, loss_1 0.001989,mean u 0.158302, mean v -1.726797, mean f -0.018386, learning_rate 0.003000, grad_norm 0.130920, param norm 7.012052\n"
     ]
    },
    {
     "name": "stdout",
     "output_type": "stream",
     "text": [
      "saving...\n",
      "INFO:tensorflow:/data2/pengqiu/experiments/dlpde_4_17/checkpoint/train_0.ckpt-6 is not in all_model_checkpoint_paths. Manually adding it.\n"
     ]
    },
    {
     "name": "stderr",
     "output_type": "stream",
     "text": [
      "INFO:tensorflow:/data2/pengqiu/experiments/dlpde_4_17/checkpoint/train_0.ckpt-6 is not in all_model_checkpoint_paths. Manually adding it.\n"
     ]
    },
    {
     "name": "stdout",
     "output_type": "stream",
     "text": [
      "saved.\n"
     ]
    },
    {
     "name": "stderr",
     "output_type": "stream",
     "text": [
      "INFO:root:time 0.001335, epoch 7, step 310,sample 3100, loss_sum 0.235968, loss_0 0.235967, loss_1 0.000001 exp_loss_sum 0.235968, exp_loss_0 0.235967, mean u 0.044400, mean v -1.726797, mean f 0.000306, learning_rate 0.003000, grad_norm 0.205207, param norm 7.015959\n",
      "INFO:root:time 0.001732, epoch 7, step 320,sample 3200, loss_sum 0.215163, loss_0 0.213900, loss_1 0.001263 exp_loss_sum 0.215163, exp_loss_0 0.213900, mean u 0.134177, mean v -1.726797, mean f -0.020123, learning_rate 0.003000, grad_norm 0.316898, param norm 7.027125\n",
      "INFO:root:time 0.001588, epoch 7, step 330,sample 3300, loss_sum 0.161797, loss_0 0.160528, loss_1 0.001269 exp_loss_sum 0.161797, exp_loss_0 0.160528, mean u 0.144723, mean v -1.726797, mean f -0.024395, learning_rate 0.003000, grad_norm 0.513210, param norm 7.037967\n",
      "INFO:root:time 0.001509, epoch 7, step 340,sample 3400, loss_sum 0.054699, loss_0 0.053039, loss_1 0.001660 exp_loss_sum 0.054699, exp_loss_0 0.053039, mean u 0.268186, mean v -1.726797, mean f -0.030066, learning_rate 0.003000, grad_norm 0.977163, param norm 7.053438\n",
      "INFO:root:TEST:loss_sum 0.048722, loss_0 0.047530, loss_1 0.001192,mean u 0.158342, mean v -1.726797, mean f -0.009532, learning_rate 0.003000, grad_norm 0.154945, param norm 7.058272\n"
     ]
    },
    {
     "name": "stdout",
     "output_type": "stream",
     "text": [
      "saving...\n",
      "INFO:tensorflow:/data2/pengqiu/experiments/dlpde_4_17/checkpoint/train_0.ckpt-7 is not in all_model_checkpoint_paths. Manually adding it.\n"
     ]
    },
    {
     "name": "stderr",
     "output_type": "stream",
     "text": [
      "INFO:tensorflow:/data2/pengqiu/experiments/dlpde_4_17/checkpoint/train_0.ckpt-7 is not in all_model_checkpoint_paths. Manually adding it.\n"
     ]
    },
    {
     "name": "stdout",
     "output_type": "stream",
     "text": [
      "saved.\n"
     ]
    },
    {
     "name": "stderr",
     "output_type": "stream",
     "text": [
      "INFO:root:time 0.001316, epoch 8, step 350,sample 3500, loss_sum 0.213950, loss_0 0.211839, loss_1 0.002111 exp_loss_sum 0.213950, exp_loss_0 0.211839, mean u 0.248670, mean v -1.726797, mean f -0.035836, learning_rate 0.003000, grad_norm 0.588556, param norm 7.065646\n",
      "INFO:root:time 0.001612, epoch 8, step 360,sample 3600, loss_sum 0.109857, loss_0 0.109388, loss_1 0.000470 exp_loss_sum 0.109857, exp_loss_0 0.109388, mean u 0.137722, mean v -1.726797, mean f -0.011440, learning_rate 0.003000, grad_norm 0.562867, param norm 7.078505\n",
      "INFO:root:time 0.001650, epoch 8, step 370,sample 3700, loss_sum 0.200030, loss_0 0.199733, loss_1 0.000297 exp_loss_sum 0.200030, exp_loss_0 0.199733, mean u 0.139800, mean v -1.726797, mean f -0.007749, learning_rate 0.003000, grad_norm 0.115014, param norm 7.089214\n",
      "INFO:root:time 0.001565, epoch 8, step 380,sample 3800, loss_sum 0.045296, loss_0 0.044932, loss_1 0.000364 exp_loss_sum 0.045296, exp_loss_0 0.044932, mean u 0.090445, mean v -1.726797, mean f -0.004937, learning_rate 0.003000, grad_norm 0.321230, param norm 7.098382\n",
      "INFO:root:TEST:loss_sum 0.044832, loss_0 0.043699, loss_1 0.001133,mean u 0.167113, mean v -1.726797, mean f -0.008275, learning_rate 0.003000, grad_norm 0.102456, param norm 7.100080\n"
     ]
    },
    {
     "name": "stdout",
     "output_type": "stream",
     "text": [
      "saving...\n",
      "INFO:tensorflow:/data2/pengqiu/experiments/dlpde_4_17/checkpoint/train_0.ckpt-8 is not in all_model_checkpoint_paths. Manually adding it.\n"
     ]
    },
    {
     "name": "stderr",
     "output_type": "stream",
     "text": [
      "INFO:tensorflow:/data2/pengqiu/experiments/dlpde_4_17/checkpoint/train_0.ckpt-8 is not in all_model_checkpoint_paths. Manually adding it.\n"
     ]
    },
    {
     "name": "stdout",
     "output_type": "stream",
     "text": [
      "saved.\n"
     ]
    },
    {
     "name": "stderr",
     "output_type": "stream",
     "text": [
      "INFO:root:time 0.001632, epoch 9, step 390,sample 3900, loss_sum 0.100961, loss_0 0.100242, loss_1 0.000720 exp_loss_sum 0.100961, exp_loss_0 0.100242, mean u 0.167811, mean v -1.726797, mean f -0.016585, learning_rate 0.003000, grad_norm 0.346458, param norm 7.108866\n",
      "INFO:root:time 0.001346, epoch 9, step 400,sample 4000, loss_sum 0.042596, loss_0 0.042587, loss_1 0.000010 exp_loss_sum 0.042596, exp_loss_0 0.042587, mean u 0.031846, mean v -1.726797, mean f -0.001385, learning_rate 0.003000, grad_norm 0.505883, param norm 7.117930\n",
      "INFO:root:time 0.001262, epoch 9, step 410,sample 4100, loss_sum 0.110569, loss_0 0.110053, loss_1 0.000516 exp_loss_sum 0.110569, exp_loss_0 0.110053, mean u 0.134526, mean v -1.726797, mean f -0.004657, learning_rate 0.003000, grad_norm 0.171566, param norm 7.125622\n",
      "INFO:root:TEST:loss_sum 0.042147, loss_0 0.040774, loss_1 0.001373,mean u 0.179228, mean v -1.726797, mean f -0.002534, learning_rate 0.003000, grad_norm 0.107557, param norm 7.131280\n"
     ]
    },
    {
     "name": "stdout",
     "output_type": "stream",
     "text": [
      "saving...\n",
      "INFO:tensorflow:/data2/pengqiu/experiments/dlpde_4_17/checkpoint/train_0.ckpt-9 is not in all_model_checkpoint_paths. Manually adding it.\n"
     ]
    },
    {
     "name": "stderr",
     "output_type": "stream",
     "text": [
      "INFO:tensorflow:/data2/pengqiu/experiments/dlpde_4_17/checkpoint/train_0.ckpt-9 is not in all_model_checkpoint_paths. Manually adding it.\n"
     ]
    },
    {
     "name": "stdout",
     "output_type": "stream",
     "text": [
      "saved.\n"
     ]
    },
    {
     "name": "stderr",
     "output_type": "stream",
     "text": [
      "INFO:root:time 0.001895, epoch 10, step 420,sample 4200, loss_sum 0.252206, loss_0 0.252009, loss_1 0.000197 exp_loss_sum 0.252206, exp_loss_0 0.252009, mean u 0.065336, mean v -1.726797, mean f -0.004171, learning_rate 0.003000, grad_norm 0.159126, param norm 7.131280\n",
      "INFO:root:time 0.001406, epoch 10, step 430,sample 4300, loss_sum 0.003235, loss_0 0.002479, loss_1 0.000756 exp_loss_sum 0.003235, exp_loss_0 0.002479, mean u 0.109218, mean v -1.726797, mean f -0.018144, learning_rate 0.003000, grad_norm 0.326974, param norm 7.138883\n",
      "INFO:root:time 0.001707, epoch 10, step 440,sample 4400, loss_sum 0.162201, loss_0 0.162163, loss_1 0.000039 exp_loss_sum 0.162201, exp_loss_0 0.162163, mean u 0.034294, mean v -1.726797, mean f -0.001971, learning_rate 0.003000, grad_norm 0.051165, param norm 7.145936\n",
      "INFO:root:time 0.001438, epoch 10, step 450,sample 4500, loss_sum 0.053523, loss_0 0.051626, loss_1 0.001897 exp_loss_sum 0.053523, exp_loss_0 0.051626, mean u 0.147473, mean v -1.726797, mean f -0.007519, learning_rate 0.003000, grad_norm 0.582552, param norm 7.152866\n",
      "INFO:root:TEST:loss_sum 0.039967, loss_0 0.038374, loss_1 0.001594,mean u 0.169389, mean v -1.726797, mean f -0.014058, learning_rate 0.003000, grad_norm 0.085483, param norm 7.155114\n"
     ]
    },
    {
     "name": "stdout",
     "output_type": "stream",
     "text": [
      "saving...\n",
      "INFO:tensorflow:/data2/pengqiu/experiments/dlpde_4_17/checkpoint/train_0.ckpt-10 is not in all_model_checkpoint_paths. Manually adding it.\n"
     ]
    },
    {
     "name": "stderr",
     "output_type": "stream",
     "text": [
      "INFO:tensorflow:/data2/pengqiu/experiments/dlpde_4_17/checkpoint/train_0.ckpt-10 is not in all_model_checkpoint_paths. Manually adding it.\n"
     ]
    },
    {
     "name": "stdout",
     "output_type": "stream",
     "text": [
      "saved.\n"
     ]
    },
    {
     "name": "stderr",
     "output_type": "stream",
     "text": [
      "INFO:root:time 0.001541, epoch 11, step 460,sample 4600, loss_sum 0.143053, loss_0 0.143044, loss_1 0.000009 exp_loss_sum 0.143053, exp_loss_0 0.143044, mean u 0.045868, mean v -1.726797, mean f -0.001598, learning_rate 0.003000, grad_norm 0.186608, param norm 7.156399\n",
      "INFO:root:time 0.001690, epoch 11, step 470,sample 4700, loss_sum 0.106483, loss_0 0.105760, loss_1 0.000723 exp_loss_sum 0.106483, exp_loss_0 0.105760, mean u 0.138365, mean v -1.726797, mean f -0.004130, learning_rate 0.003000, grad_norm 0.269533, param norm 7.163598\n",
      "INFO:root:time 0.001859, epoch 11, step 480,sample 4800, loss_sum 0.274327, loss_0 0.273786, loss_1 0.000541 exp_loss_sum 0.274327, exp_loss_0 0.273786, mean u 0.092110, mean v -1.726797, mean f -0.005474, learning_rate 0.003000, grad_norm 0.150650, param norm 7.169439\n",
      "INFO:root:time 0.001628, epoch 11, step 490,sample 4900, loss_sum 0.110478, loss_0 0.110217, loss_1 0.000261 exp_loss_sum 0.110478, exp_loss_0 0.110217, mean u 0.044180, mean v -1.726797, mean f -0.010225, learning_rate 0.003000, grad_norm 0.290301, param norm 7.175964\n",
      "INFO:root:TEST:loss_sum 0.038619, loss_0 0.036684, loss_1 0.001935,mean u 0.181825, mean v -1.726797, mean f -0.014369, learning_rate 0.003000, grad_norm 0.123893, param norm 7.179428\n"
     ]
    },
    {
     "name": "stdout",
     "output_type": "stream",
     "text": [
      "saving...\n",
      "INFO:tensorflow:/data2/pengqiu/experiments/dlpde_4_17/checkpoint/train_0.ckpt-11 is not in all_model_checkpoint_paths. Manually adding it.\n"
     ]
    },
    {
     "name": "stderr",
     "output_type": "stream",
     "text": [
      "INFO:tensorflow:/data2/pengqiu/experiments/dlpde_4_17/checkpoint/train_0.ckpt-11 is not in all_model_checkpoint_paths. Manually adding it.\n"
     ]
    },
    {
     "name": "stdout",
     "output_type": "stream",
     "text": [
      "saved.\n"
     ]
    },
    {
     "name": "stderr",
     "output_type": "stream",
     "text": [
      "INFO:root:time 0.001626, epoch 12, step 500,sample 5000, loss_sum 0.232411, loss_0 0.231727, loss_1 0.000684 exp_loss_sum 0.232411, exp_loss_0 0.231727, mean u 0.059630, mean v -1.726797, mean f -0.008268, learning_rate 0.003000, grad_norm 0.080892, param norm 7.181941\n",
      "INFO:root:time 0.001286, epoch 12, step 510,sample 5100, loss_sum 0.207010, loss_0 0.205790, loss_1 0.001220 exp_loss_sum 0.207010, exp_loss_0 0.205790, mean u 0.149223, mean v -1.726797, mean f -0.015345, learning_rate 0.003000, grad_norm 0.191763, param norm 7.187572\n",
      "INFO:root:time 0.001264, epoch 12, step 520,sample 5200, loss_sum 0.164489, loss_0 0.164000, loss_1 0.000490 exp_loss_sum 0.164489, exp_loss_0 0.164000, mean u 0.141102, mean v -1.726797, mean f -0.005695, learning_rate 0.003000, grad_norm 0.392766, param norm 7.190931\n",
      "INFO:root:time 0.001673, epoch 12, step 530,sample 5300, loss_sum 0.025505, loss_0 0.024459, loss_1 0.001047 exp_loss_sum 0.025505, exp_loss_0 0.024459, mean u 0.335339, mean v -1.726797, mean f -0.016582, learning_rate 0.003000, grad_norm 0.537097, param norm 7.195431\n",
      "INFO:root:TEST:loss_sum 0.036453, loss_0 0.035019, loss_1 0.001434,mean u 0.170578, mean v -1.726797, mean f -0.010494, learning_rate 0.003000, grad_norm 0.092362, param norm 7.197120\n"
     ]
    },
    {
     "name": "stdout",
     "output_type": "stream",
     "text": [
      "saving...\n",
      "INFO:tensorflow:/data2/pengqiu/experiments/dlpde_4_17/checkpoint/train_0.ckpt-12 is not in all_model_checkpoint_paths. Manually adding it.\n"
     ]
    },
    {
     "name": "stderr",
     "output_type": "stream",
     "text": [
      "INFO:tensorflow:/data2/pengqiu/experiments/dlpde_4_17/checkpoint/train_0.ckpt-12 is not in all_model_checkpoint_paths. Manually adding it.\n"
     ]
    },
    {
     "name": "stdout",
     "output_type": "stream",
     "text": [
      "saved.\n"
     ]
    },
    {
     "name": "stderr",
     "output_type": "stream",
     "text": [
      "INFO:root:time 0.001673, epoch 13, step 540,sample 5400, loss_sum 0.203665, loss_0 0.201187, loss_1 0.002479 exp_loss_sum 0.203665, exp_loss_0 0.201187, mean u 0.242440, mean v -1.726797, mean f -0.037706, learning_rate 0.003000, grad_norm 0.452387, param norm 7.199509\n",
      "INFO:root:time 0.001774, epoch 13, step 550,sample 5500, loss_sum 0.096282, loss_0 0.095047, loss_1 0.001235 exp_loss_sum 0.096282, exp_loss_0 0.095047, mean u 0.175068, mean v -1.726797, mean f -0.017659, learning_rate 0.003000, grad_norm 0.336348, param norm 7.205091\n",
      "INFO:root:time 0.001565, epoch 13, step 560,sample 5600, loss_sum 0.196154, loss_0 0.195202, loss_1 0.000952 exp_loss_sum 0.196154, exp_loss_0 0.195202, mean u 0.137893, mean v -1.726797, mean f -0.010454, learning_rate 0.003000, grad_norm 0.139298, param norm 7.209766\n",
      "INFO:root:time 0.001456, epoch 13, step 570,sample 5700, loss_sum 0.037681, loss_0 0.037235, loss_1 0.000446 exp_loss_sum 0.037681, exp_loss_0 0.037235, mean u 0.100933, mean v -1.726797, mean f -0.009336, learning_rate 0.003000, grad_norm 0.223124, param norm 7.213166\n",
      "INFO:root:TEST:loss_sum 0.036270, loss_0 0.034694, loss_1 0.001576,mean u 0.176564, mean v -1.726797, mean f -0.018001, learning_rate 0.003000, grad_norm 0.080933, param norm 7.213670\n"
     ]
    },
    {
     "name": "stdout",
     "output_type": "stream",
     "text": [
      "saving...\n",
      "INFO:tensorflow:/data2/pengqiu/experiments/dlpde_4_17/checkpoint/train_0.ckpt-13 is not in all_model_checkpoint_paths. Manually adding it.\n"
     ]
    },
    {
     "name": "stderr",
     "output_type": "stream",
     "text": [
      "INFO:tensorflow:/data2/pengqiu/experiments/dlpde_4_17/checkpoint/train_0.ckpt-13 is not in all_model_checkpoint_paths. Manually adding it.\n"
     ]
    },
    {
     "name": "stdout",
     "output_type": "stream",
     "text": [
      "saved.\n"
     ]
    },
    {
     "name": "stderr",
     "output_type": "stream",
     "text": [
      "INFO:root:time 0.001405, epoch 14, step 580,sample 5800, loss_sum 0.102262, loss_0 0.099224, loss_1 0.003038 exp_loss_sum 0.102262, exp_loss_0 0.099224, mean u 0.168937, mean v -1.726797, mean f -0.022143, learning_rate 0.003000, grad_norm 0.343656, param norm 7.216606\n",
      "INFO:root:time 0.001667, epoch 14, step 590,sample 5900, loss_sum 0.044526, loss_0 0.044501, loss_1 0.000025 exp_loss_sum 0.044526, exp_loss_0 0.044501, mean u 0.027360, mean v -1.726797, mean f -0.002214, learning_rate 0.003000, grad_norm 0.643616, param norm 7.217684\n",
      "INFO:root:time 0.001718, epoch 14, step 600,sample 6000, loss_sum 0.111213, loss_0 0.110539, loss_1 0.000674 exp_loss_sum 0.111213, exp_loss_0 0.110539, mean u 0.137056, mean v -1.726797, mean f -0.010560, learning_rate 0.003000, grad_norm 0.196502, param norm 7.219817\n",
      "INFO:root:TEST:loss_sum 0.035099, loss_0 0.033848, loss_1 0.001250,mean u 0.172252, mean v -1.726797, mean f -0.017866, learning_rate 0.003000, grad_norm 0.066532, param norm 7.222861\n"
     ]
    },
    {
     "name": "stdout",
     "output_type": "stream",
     "text": [
      "saving...\n",
      "INFO:tensorflow:/data2/pengqiu/experiments/dlpde_4_17/checkpoint/train_0.ckpt-14 is not in all_model_checkpoint_paths. Manually adding it.\n"
     ]
    },
    {
     "name": "stderr",
     "output_type": "stream",
     "text": [
      "INFO:tensorflow:/data2/pengqiu/experiments/dlpde_4_17/checkpoint/train_0.ckpt-14 is not in all_model_checkpoint_paths. Manually adding it.\n"
     ]
    },
    {
     "name": "stdout",
     "output_type": "stream",
     "text": [
      "saved.\n"
     ]
    },
    {
     "name": "stderr",
     "output_type": "stream",
     "text": [
      "INFO:root:time 0.001869, epoch 15, step 610,sample 6100, loss_sum 0.251245, loss_0 0.250525, loss_1 0.000721 exp_loss_sum 0.251245, exp_loss_0 0.250525, mean u 0.054234, mean v -1.726797, mean f -0.009461, learning_rate 0.003000, grad_norm 0.068347, param norm 7.222861\n",
      "INFO:root:time 0.001780, epoch 15, step 620,sample 6200, loss_sum 0.001335, loss_0 0.001241, loss_1 0.000094 exp_loss_sum 0.001335, exp_loss_0 0.001241, mean u 0.087701, mean v -1.726797, mean f -0.005923, learning_rate 0.003000, grad_norm 0.067890, param norm 7.227599\n",
      "INFO:root:time 0.001726, epoch 15, step 630,sample 6300, loss_sum 0.167116, loss_0 0.167115, loss_1 0.000000 exp_loss_sum 0.167116, exp_loss_0 0.167115, mean u 0.052435, mean v -1.726797, mean f -0.000177, learning_rate 0.003000, grad_norm 0.305414, param norm 7.229972\n",
      "INFO:root:time 0.001617, epoch 15, step 640,sample 6400, loss_sum 0.049825, loss_0 0.048899, loss_1 0.000927 exp_loss_sum 0.049825, exp_loss_0 0.048899, mean u 0.123856, mean v -1.726797, mean f -0.016509, learning_rate 0.003000, grad_norm 0.258567, param norm 7.233026\n",
      "INFO:root:TEST:loss_sum 0.035180, loss_0 0.033881, loss_1 0.001299,mean u 0.177532, mean v -1.726797, mean f -0.017988, learning_rate 0.003000, grad_norm 0.077736, param norm 7.235489\n"
     ]
    },
    {
     "name": "stdout",
     "output_type": "stream",
     "text": [
      "saving...\n",
      "INFO:tensorflow:/data2/pengqiu/experiments/dlpde_4_17/checkpoint/train_0.ckpt-15 is not in all_model_checkpoint_paths. Manually adding it.\n"
     ]
    },
    {
     "name": "stderr",
     "output_type": "stream",
     "text": [
      "INFO:tensorflow:/data2/pengqiu/experiments/dlpde_4_17/checkpoint/train_0.ckpt-15 is not in all_model_checkpoint_paths. Manually adding it.\n"
     ]
    },
    {
     "name": "stdout",
     "output_type": "stream",
     "text": [
      "saved.\n"
     ]
    },
    {
     "name": "stderr",
     "output_type": "stream",
     "text": [
      "INFO:root:time 0.001597, epoch 16, step 650,sample 6500, loss_sum 0.141816, loss_0 0.141767, loss_1 0.000049 exp_loss_sum 0.141816, exp_loss_0 0.141767, mean u 0.046908, mean v -1.726797, mean f -0.004411, learning_rate 0.003000, grad_norm 0.213194, param norm 7.236520\n",
      "INFO:root:time 0.001694, epoch 16, step 660,sample 6600, loss_sum 0.103694, loss_0 0.103286, loss_1 0.000408 exp_loss_sum 0.103694, exp_loss_0 0.103286, mean u 0.144789, mean v -1.726797, mean f -0.005760, learning_rate 0.003000, grad_norm 0.190639, param norm 7.241385\n",
      "INFO:root:time 0.001888, epoch 16, step 670,sample 6700, loss_sum 0.274441, loss_0 0.273678, loss_1 0.000762 exp_loss_sum 0.274441, exp_loss_0 0.273678, mean u 0.077639, mean v -1.726797, mean f -0.008730, learning_rate 0.003000, grad_norm 0.131861, param norm 7.243847\n",
      "INFO:root:time 0.002045, epoch 16, step 680,sample 6800, loss_sum 0.105583, loss_0 0.105347, loss_1 0.000236 exp_loss_sum 0.105583, exp_loss_0 0.105347, mean u 0.066513, mean v -1.726797, mean f -0.012859, learning_rate 0.003000, grad_norm 0.055601, param norm 7.246937\n",
      "INFO:root:TEST:loss_sum 0.035371, loss_0 0.033782, loss_1 0.001590,mean u 0.166275, mean v -1.726797, mean f -0.020324, learning_rate 0.003000, grad_norm 0.139655, param norm 7.248485\n"
     ]
    },
    {
     "name": "stdout",
     "output_type": "stream",
     "text": [
      "saving...\n",
      "INFO:tensorflow:/data2/pengqiu/experiments/dlpde_4_17/checkpoint/train_0.ckpt-16 is not in all_model_checkpoint_paths. Manually adding it.\n"
     ]
    },
    {
     "name": "stderr",
     "output_type": "stream",
     "text": [
      "INFO:tensorflow:/data2/pengqiu/experiments/dlpde_4_17/checkpoint/train_0.ckpt-16 is not in all_model_checkpoint_paths. Manually adding it.\n"
     ]
    },
    {
     "name": "stdout",
     "output_type": "stream",
     "text": [
      "saved.\n"
     ]
    },
    {
     "name": "stderr",
     "output_type": "stream",
     "text": [
      "INFO:root:time 0.001860, epoch 17, step 690,sample 6900, loss_sum 0.231582, loss_0 0.231345, loss_1 0.000237 exp_loss_sum 0.231582, exp_loss_0 0.231345, mean u 0.064677, mean v -1.726797, mean f -0.004868, learning_rate 0.003000, grad_norm 0.027632, param norm 7.249724\n",
      "INFO:root:time 0.001638, epoch 17, step 700,sample 7000, loss_sum 0.206310, loss_0 0.204741, loss_1 0.001569 exp_loss_sum 0.206310, exp_loss_0 0.204741, mean u 0.152480, mean v -1.726797, mean f -0.017708, learning_rate 0.003000, grad_norm 0.185154, param norm 7.251462\n",
      "INFO:root:time 0.001597, epoch 17, step 710,sample 7100, loss_sum 0.163889, loss_0 0.163287, loss_1 0.000602 exp_loss_sum 0.163889, exp_loss_0 0.163287, mean u 0.140498, mean v -1.726797, mean f -0.006938, learning_rate 0.003000, grad_norm 0.408836, param norm 7.251491\n",
      "INFO:root:time 0.001931, epoch 17, step 720,sample 7200, loss_sum 0.019155, loss_0 0.016225, loss_1 0.002930 exp_loss_sum 0.019155, exp_loss_0 0.016225, mean u 0.360825, mean v -1.726797, mean f -0.041778, learning_rate 0.003000, grad_norm 0.265480, param norm 7.252902\n",
      "INFO:root:TEST:loss_sum 0.034882, loss_0 0.033436, loss_1 0.001447,mean u 0.178835, mean v -1.726797, mean f -0.021636, learning_rate 0.003000, grad_norm 0.085632, param norm 7.253302\n"
     ]
    },
    {
     "name": "stdout",
     "output_type": "stream",
     "text": [
      "saving...\n",
      "INFO:tensorflow:/data2/pengqiu/experiments/dlpde_4_17/checkpoint/train_0.ckpt-17 is not in all_model_checkpoint_paths. Manually adding it.\n"
     ]
    },
    {
     "name": "stderr",
     "output_type": "stream",
     "text": [
      "INFO:tensorflow:/data2/pengqiu/experiments/dlpde_4_17/checkpoint/train_0.ckpt-17 is not in all_model_checkpoint_paths. Manually adding it.\n"
     ]
    },
    {
     "name": "stdout",
     "output_type": "stream",
     "text": [
      "saved.\n"
     ]
    },
    {
     "name": "stderr",
     "output_type": "stream",
     "text": [
      "INFO:root:time 0.001407, epoch 18, step 730,sample 7300, loss_sum 0.200367, loss_0 0.198903, loss_1 0.001463 exp_loss_sum 0.200367, exp_loss_0 0.198903, mean u 0.227159, mean v -1.726797, mean f -0.024058, learning_rate 0.003000, grad_norm 0.370240, param norm 7.255371\n",
      "INFO:root:time 0.001339, epoch 18, step 740,sample 7400, loss_sum 0.092961, loss_0 0.091581, loss_1 0.001380 exp_loss_sum 0.092961, exp_loss_0 0.091581, mean u 0.181003, mean v -1.726797, mean f -0.019759, learning_rate 0.003000, grad_norm 0.300118, param norm 7.256526\n",
      "INFO:root:time 0.001418, epoch 18, step 750,sample 7500, loss_sum 0.194889, loss_0 0.194192, loss_1 0.000697 exp_loss_sum 0.194889, exp_loss_0 0.194192, mean u 0.136539, mean v -1.726797, mean f -0.006254, learning_rate 0.003000, grad_norm 0.161619, param norm 7.257112\n",
      "INFO:root:time 0.001336, epoch 18, step 760,sample 7600, loss_sum 0.034872, loss_0 0.034809, loss_1 0.000063 exp_loss_sum 0.034872, exp_loss_0 0.034809, mean u 0.106005, mean v -1.726797, mean f -0.002742, learning_rate 0.003000, grad_norm 0.191842, param norm 7.258967\n",
      "INFO:root:TEST:loss_sum 0.035546, loss_0 0.033509, loss_1 0.002037,mean u 0.166941, mean v -1.726797, mean f -0.022779, learning_rate 0.003000, grad_norm 0.177491, param norm 7.259301\n"
     ]
    },
    {
     "name": "stdout",
     "output_type": "stream",
     "text": [
      "saving...\n",
      "INFO:tensorflow:/data2/pengqiu/experiments/dlpde_4_17/checkpoint/train_0.ckpt-18 is not in all_model_checkpoint_paths. Manually adding it.\n"
     ]
    },
    {
     "name": "stderr",
     "output_type": "stream",
     "text": [
      "INFO:tensorflow:/data2/pengqiu/experiments/dlpde_4_17/checkpoint/train_0.ckpt-18 is not in all_model_checkpoint_paths. Manually adding it.\n"
     ]
    },
    {
     "name": "stdout",
     "output_type": "stream",
     "text": [
      "saved.\n"
     ]
    },
    {
     "name": "stderr",
     "output_type": "stream",
     "text": [
      "INFO:root:time 0.001421, epoch 19, step 770,sample 7700, loss_sum 0.102775, loss_0 0.100048, loss_1 0.002727 exp_loss_sum 0.102775, exp_loss_0 0.100048, mean u 0.168293, mean v -1.726797, mean f -0.029181, learning_rate 0.003000, grad_norm 0.317481, param norm 7.262798\n",
      "INFO:root:time 0.001411, epoch 19, step 780,sample 7800, loss_sum 0.040130, loss_0 0.040117, loss_1 0.000013 exp_loss_sum 0.040130, exp_loss_0 0.040117, mean u 0.038462, mean v -1.726797, mean f -0.001591, learning_rate 0.003000, grad_norm 0.514325, param norm 7.264381\n",
      "INFO:root:time 0.001279, epoch 19, step 790,sample 7900, loss_sum 0.110419, loss_0 0.109684, loss_1 0.000735 exp_loss_sum 0.110419, exp_loss_0 0.109684, mean u 0.129119, mean v -1.726797, mean f -0.012224, learning_rate 0.003000, grad_norm 0.110401, param norm 7.266072\n",
      "INFO:root:TEST:loss_sum 0.035256, loss_0 0.033306, loss_1 0.001950,mean u 0.173313, mean v -1.726797, mean f -0.023154, learning_rate 0.003000, grad_norm 0.072973, param norm 7.267113\n"
     ]
    },
    {
     "name": "stdout",
     "output_type": "stream",
     "text": [
      "saving...\n",
      "INFO:tensorflow:/data2/pengqiu/experiments/dlpde_4_17/checkpoint/train_0.ckpt-19 is not in all_model_checkpoint_paths. Manually adding it.\n"
     ]
    },
    {
     "name": "stderr",
     "output_type": "stream",
     "text": [
      "INFO:tensorflow:/data2/pengqiu/experiments/dlpde_4_17/checkpoint/train_0.ckpt-19 is not in all_model_checkpoint_paths. Manually adding it.\n"
     ]
    },
    {
     "name": "stdout",
     "output_type": "stream",
     "text": [
      "saved.\n"
     ]
    },
    {
     "name": "stderr",
     "output_type": "stream",
     "text": [
      "INFO:root:time 0.001570, epoch 20, step 800,sample 8000, loss_sum 0.250414, loss_0 0.250374, loss_1 0.000039 exp_loss_sum 0.250414, exp_loss_0 0.250374, mean u 0.052478, mean v -1.726797, mean f -0.002543, learning_rate 0.003000, grad_norm 0.062072, param norm 7.267113\n",
      "INFO:root:time 0.001343, epoch 20, step 810,sample 8100, loss_sum 0.001196, loss_0 0.001049, loss_1 0.000147 exp_loss_sum 0.001196, exp_loss_0 0.001049, mean u 0.089557, mean v -1.726797, mean f -0.004980, learning_rate 0.003000, grad_norm 0.066677, param norm 7.269958\n",
      "INFO:root:time 0.001320, epoch 20, step 820,sample 8200, loss_sum 0.168142, loss_0 0.168141, loss_1 0.000001 exp_loss_sum 0.168142, exp_loss_0 0.168141, mean u 0.054589, mean v -1.726797, mean f -0.000318, learning_rate 0.003000, grad_norm 0.349177, param norm 7.270443\n",
      "INFO:root:time 0.001277, epoch 20, step 830,sample 8300, loss_sum 0.050257, loss_0 0.049333, loss_1 0.000924 exp_loss_sum 0.050257, exp_loss_0 0.049333, mean u 0.129036, mean v -1.726797, mean f -0.017850, learning_rate 0.003000, grad_norm 0.319680, param norm 7.271253\n",
      "INFO:root:TEST:loss_sum 0.036269, loss_0 0.033643, loss_1 0.002626,mean u 0.168073, mean v -1.726797, mean f -0.015390, learning_rate 0.003000, grad_norm 0.164698, param norm 7.271595\n"
     ]
    },
    {
     "name": "stdout",
     "output_type": "stream",
     "text": [
      "saving...\n",
      "INFO:tensorflow:/data2/pengqiu/experiments/dlpde_4_17/checkpoint/train_0.ckpt-20 is not in all_model_checkpoint_paths. Manually adding it.\n"
     ]
    },
    {
     "name": "stderr",
     "output_type": "stream",
     "text": [
      "INFO:tensorflow:/data2/pengqiu/experiments/dlpde_4_17/checkpoint/train_0.ckpt-20 is not in all_model_checkpoint_paths. Manually adding it.\n"
     ]
    },
    {
     "name": "stdout",
     "output_type": "stream",
     "text": [
      "saved.\n"
     ]
    }
   ],
   "source": [
    "trainer.train()"
   ]
  },
  {
   "cell_type": "code",
   "execution_count": 12,
   "metadata": {},
   "outputs": [
    {
     "data": {
      "text/plain": [
       "(200,)"
      ]
     },
     "execution_count": 12,
     "metadata": {},
     "output_type": "execute_result"
    }
   ],
   "source": [
    "input_train_data[:,0].shape"
   ]
  },
  {
   "cell_type": "code",
   "execution_count": null,
   "metadata": {
    "collapsed": true
   },
   "outputs": [],
   "source": []
  },
  {
   "cell_type": "code",
   "execution_count": null,
   "metadata": {
    "collapsed": true
   },
   "outputs": [],
   "source": []
  },
  {
   "cell_type": "code",
   "execution_count": null,
   "metadata": {
    "collapsed": true
   },
   "outputs": [],
   "source": []
  },
  {
   "cell_type": "code",
   "execution_count": null,
   "metadata": {
    "collapsed": true
   },
   "outputs": [],
   "source": [
    "config:sample_num_0,sample_num_1,sample_num_2, extra_sample_num,num_layers,neural_size"
   ]
  },
  {
   "cell_type": "code",
   "execution_count": null,
   "metadata": {
    "collapsed": true
   },
   "outputs": [],
   "source": [
    "input_placeholder = tf.placeholder(shape=[None,2],dtype=tf.float32)"
   ]
  },
  {
   "cell_type": "code",
   "execution_count": null,
   "metadata": {
    "collapsed": true
   },
   "outputs": [],
   "source": [
    "a = np.random_normal([4,5])"
   ]
  },
  {
   "cell_type": "code",
   "execution_count": null,
   "metadata": {
    "collapsed": true
   },
   "outputs": [],
   "source": [
    "a = np.ones([4,5])"
   ]
  },
  {
   "cell_type": "code",
   "execution_count": null,
   "metadata": {
    "collapsed": true
   },
   "outputs": [],
   "source": [
    "a"
   ]
  },
  {
   "cell_type": "code",
   "execution_count": null,
   "metadata": {
    "collapsed": true
   },
   "outputs": [],
   "source": [
    "b= np.zeros([4,5])"
   ]
  },
  {
   "cell_type": "code",
   "execution_count": null,
   "metadata": {
    "collapsed": true
   },
   "outputs": [],
   "source": [
    "c= tf.losses.mean_squared_error(a,b)"
   ]
  },
  {
   "cell_type": "code",
   "execution_count": null,
   "metadata": {
    "collapsed": true
   },
   "outputs": [],
   "source": [
    "sess = tf.Session()"
   ]
  },
  {
   "cell_type": "code",
   "execution_count": null,
   "metadata": {
    "collapsed": true
   },
   "outputs": [],
   "source": [
    "sess.run(c)"
   ]
  },
  {
   "cell_type": "code",
   "execution_count": null,
   "metadata": {
    "collapsed": true
   },
   "outputs": [],
   "source": []
  },
  {
   "cell_type": "code",
   "execution_count": null,
   "metadata": {
    "collapsed": true
   },
   "outputs": [],
   "source": [
    "np.mean(a)"
   ]
  },
  {
   "cell_type": "code",
   "execution_count": null,
   "metadata": {
    "collapsed": true
   },
   "outputs": [],
   "source": [
    "a[1:3,2:3]"
   ]
  },
  {
   "cell_type": "code",
   "execution_count": null,
   "metadata": {
    "collapsed": true
   },
   "outputs": [],
   "source": [
    "input_placeholder[:,1]"
   ]
  },
  {
   "cell_type": "code",
   "execution_count": null,
   "metadata": {
    "collapsed": true
   },
   "outputs": [],
   "source": [
    "from data_loader.data_loader import *"
   ]
  },
  {
   "cell_type": "code",
   "execution_count": null,
   "metadata": {
    "collapsed": true
   },
   "outputs": [],
   "source": [
    "help(tf.losses.mean_squared_error)"
   ]
  },
  {
   "cell_type": "code",
   "execution_count": null,
   "metadata": {
    "collapsed": true
   },
   "outputs": [],
   "source": [
    "sample_num_0 = 100\n",
    "sample_num_1 = 200\n",
    "sample_num_2 = 50\n",
    "\"\"\"\n",
    "sample_num_0 : x = -pi , t = random s时u的数据 以及 x= pi , t = random s时u的数据\n",
    "sample_num_1 : x = random , t = 0 时 u 的 数据。\n",
    "sample_num_2 : x = random , t = random f 的数据， 用来单独对f的条件进行训练\n",
    "\"\"\"\n",
    "# Input = [x,t]\n",
    "t00 = np.random.uniform(size = sample_num_0)\n",
    "x00 = np.ones(sample_num_0) * (-np.pi)\n",
    "u00 = exact_solution(x00,t00)\n",
    "#x = -pi , t = random s时u的真实值\n",
    "t01 = np.random.uniform(size = sample_num_0)\n",
    "x01 = np.ones(sample_num_0) * (np.pi)\n",
    "u01 = exact_solution(x01,t01)\n",
    "#x = pi , t = random s时u的真实值\n",
    "x1 = np.random.uniform(low = - math.pi , high = math.pi , size = sample_num_1)\n",
    "t1 = np.zeros(sample_num_1)\n",
    "u1 = exact_solution(x1,t1)\n",
    "# x = random , t = 0 时 u 的 真实值。\n",
    "x2 = np.random.uniform(low = - math.pi , high = math.pi , size = sample_num_2)\n",
    "t2 = np.random.uniform(size = sample_num_2)\n",
    "f2 = np.zeros(sample_num_2)\n",
    "# x = random , t = random f 的真实值， 用来单独对f的条件进行训练\n",
    "\n",
    "input_x = np.concatenate([x00,x01,x1,x2])\n",
    "input_t = np.concatenate([t00,t01,t1,t2])\n",
    "input_data = np.stack([input_x,input_t],axis =0)"
   ]
  },
  {
   "cell_type": "code",
   "execution_count": null,
   "metadata": {
    "collapsed": true
   },
   "outputs": [],
   "source": [
    "I = input_data.T"
   ]
  },
  {
   "cell_type": "code",
   "execution_count": null,
   "metadata": {
    "collapsed": true
   },
   "outputs": [],
   "source": [
    "a = I[0:10]"
   ]
  },
  {
   "cell_type": "code",
   "execution_count": null,
   "metadata": {
    "collapsed": true
   },
   "outputs": [],
   "source": [
    "x_batch = a[:,0]"
   ]
  },
  {
   "cell_type": "code",
   "execution_count": null,
   "metadata": {
    "collapsed": true
   },
   "outputs": [],
   "source": [
    "x_batch"
   ]
  },
  {
   "cell_type": "code",
   "execution_count": null,
   "metadata": {
    "collapsed": true
   },
   "outputs": [],
   "source": [
    "np.reshape(x_batch,[-1,1])"
   ]
  },
  {
   "cell_type": "code",
   "execution_count": null,
   "metadata": {
    "collapsed": true
   },
   "outputs": [],
   "source": [
    "tf.reset_default_graph()\n",
    "def neural_net(input,scope,num_layers = 4,neural_size = 20, output_size = 1):\n",
    "    \"\"\"neural_size:中间节点数，output_size:输出节点数\"\"\"\n",
    "    layer_tmp = input\n",
    "    for i in range(num_layers-1):\n",
    "        layer_tmp = tf.contrib.layers.fully_connected(layer_tmp,neural_size)\n",
    "    u = tf.contrib.layers.fully_connected(layer_tmp,output_size)\n",
    "    return u\n",
    "with tf.variable_scope('forward') as scope:\n",
    "    x = tf.placeholder(shape=[None,1],dtype=tf.float32)\n",
    "    #None表示batch_size \n",
    "    t = tf.placeholder(shape=[None,1],dtype=tf.float32)\n",
    "    input = tf.concat([x,t],1)\n",
    "    u = neural_net(input,scope)\n",
    "    v = tf.Variable(tf.random_normal(shape=[1,1]), trainable=True, dtype=tf.float32)\n",
    "    #未知参数\n",
    "    u_t = tf.gradients(u,t)[0]\n",
    "    u_x = tf.gradients(u,t)[0]\n",
    "    u_xx = tf.gradients(u_x,x)[0]\n",
    "    f = u_t-v*u_xx"
   ]
  },
  {
   "cell_type": "code",
   "execution_count": null,
   "metadata": {
    "collapsed": true
   },
   "outputs": [],
   "source": [
    "zero = tf.fill(tf.shape(f), 0.0)"
   ]
  },
  {
   "cell_type": "code",
   "execution_count": null,
   "metadata": {
    "collapsed": true
   },
   "outputs": [],
   "source": [
    "input_data.T.shape"
   ]
  },
  {
   "cell_type": "code",
   "execution_count": null,
   "metadata": {
    "collapsed": true
   },
   "outputs": [],
   "source": [
    "f.shape"
   ]
  },
  {
   "cell_type": "code",
   "execution_count": null,
   "metadata": {
    "collapsed": true
   },
   "outputs": [],
   "source": [
    "tf.gradients(u,t)"
   ]
  },
  {
   "cell_type": "code",
   "execution_count": null,
   "metadata": {
    "collapsed": true
   },
   "outputs": [],
   "source": [
    "tf.reset_default_graph()\n",
    "x = tf.placeholder(shape=[None,1],dtype=tf.float32)\n",
    "#None表示batch_size \n",
    "t = tf.placeholder(shape=[None,1],dtype=tf.float32)\n",
    "input = tf.concat([t,x],1)\n",
    "layer_tmp = tf.contrib.layers.fully_connected(input,20)"
   ]
  },
  {
   "cell_type": "code",
   "execution_count": null,
   "metadata": {
    "collapsed": true
   },
   "outputs": [],
   "source": [
    "layer_tmp"
   ]
  },
  {
   "cell_type": "code",
   "execution_count": null,
   "metadata": {
    "collapsed": true
   },
   "outputs": [],
   "source": []
  },
  {
   "cell_type": "code",
   "execution_count": null,
   "metadata": {
    "collapsed": true
   },
   "outputs": [],
   "source": [
    "input_data_noise = include_noise(input_data)"
   ]
  },
  {
   "cell_type": "code",
   "execution_count": null,
   "metadata": {
    "collapsed": true
   },
   "outputs": [],
   "source": [
    "raise IOError(\"wrong\")"
   ]
  },
  {
   "cell_type": "code",
   "execution_count": null,
   "metadata": {
    "collapsed": true
   },
   "outputs": [],
   "source": [
    "list(input_data.shape)"
   ]
  },
  {
   "cell_type": "code",
   "execution_count": null,
   "metadata": {
    "collapsed": true
   },
   "outputs": [],
   "source": []
  },
  {
   "cell_type": "code",
   "execution_count": null,
   "metadata": {
    "collapsed": true
   },
   "outputs": [],
   "source": [
    "len(input_t)"
   ]
  },
  {
   "cell_type": "code",
   "execution_count": null,
   "metadata": {
    "collapsed": true
   },
   "outputs": [],
   "source": [
    "input_data = np.stack([input_x,input_t],axis =0)"
   ]
  },
  {
   "cell_type": "code",
   "execution_count": null,
   "metadata": {
    "collapsed": true
   },
   "outputs": [],
   "source": [
    "train_data = np.concatenate([U_x0,U_x1,U_t0,F])\n",
    "train_data_noise = include_noise(train_data)\n",
    "train_data_noise = np.reshape(train_data_noise,[4,-1])"
   ]
  },
  {
   "cell_type": "code",
   "execution_count": null,
   "metadata": {
    "collapsed": true
   },
   "outputs": [],
   "source": [
    "train_data_noise.shape"
   ]
  },
  {
   "cell_type": "markdown",
   "metadata": {},
   "source": [
    "对于热传导问题：\n",
    "\n",
    "$u_t(x,t) = u_{xx}(x,t), -\\pi < x < \\pi, 0<t<T$\n",
    "\n",
    "$u(-\\pi,t) = u(\\pi,t) = 0 , 0< t < T$\n",
    "\n",
    "$u(x,0) = sin(x)$\n",
    "\n",
    "T = 1\n",
    "\n",
    "准确解为：\n",
    "\n",
    "$u(x,t) = e^{-t} sin(x)$\n",
    "\n",
    "假设v是未知参数,根据数据对v的值进行计算\n",
    "\n",
    "$u_t(x,t) - v * u_{xx}(x,t), -\\pi < x < \\pi, 0<t<T$\n",
    "\n",
    "此时，v的真实值为1"
   ]
  },
  {
   "cell_type": "code",
   "execution_count": null,
   "metadata": {
    "collapsed": true
   },
   "outputs": [],
   "source": [
    "tf.reset_default_graph()\n",
    "def neural_net(input,scope,num_layers = 4,neural_size = 20, output_size = 1):\n",
    "    \"\"\"neural_size:中间节点数，output_size:输出节点数\"\"\"\n",
    "    layer_tmp = input\n",
    "    for i in range(num_layers-1):\n",
    "        layer_tmp = tf.contrib.layers.fully_connected(layer_tmp,neural_size)\n",
    "    u = tf.contrib.layers.fully_connected(layer_tmp,output_size)\n",
    "    return u\n",
    "\n",
    "with tf.variable_scope('forward') as scope:\n",
    "    x = tf.placeholder(shape=[1,1],dtype=tf.float32)\n",
    "    #[None,1]\n",
    "    t = tf.placeholder(shape=[1,1],dtype=tf.float32)\n",
    "    input = tf.concat([t,x],1)\n",
    "    u = neural_net(input,scope)\n",
    "    v = tf.Variable(tf.random_normal(shape=[1,1]), trainable=True, dtype=tf.float32)\n",
    "    #未知参数\n",
    "    u_t = tf.gradients(u,t)[0]\n",
    "    u_x = tf.gradients(u,t)[0]\n",
    "    u_xx = tf.gradients(u_x,x)[0]\n",
    "    f = u_t-v*u_xx\n",
    "    \n",
    "with tf.variable_scope('forward',reuse=True) as scope:\n",
    "    x0 = tf.constant(value=-math.pi,shape=[1,1])\n",
    "    input_x0 = tf.concat([t,x0],1)\n",
    "    u_x0 = neural_net(input_x0,scope)\n",
    "\n",
    "with tf.variable_scope('forward',reuse=True) as scope:\n",
    "    x1 = tf.constant(value=math.pi,shape=[1,1])\n",
    "    input_x1 = tf.concat([t,x1],1)\n",
    "    u_x1 = neural_net(input_x1,scope)\n",
    "    \n",
    "with tf.variable_scope('forward',reuse=True) as scope:\n",
    "    t0 = tf.constant(value=0.0,shape=[1,1])\n",
    "    input_t0 = tf.concat([t0,x],1)\n",
    "    u_t0 = neural_net(input_t0,scope)"
   ]
  },
  {
   "cell_type": "code",
   "execution_count": null,
   "metadata": {
    "collapsed": true
   },
   "outputs": [],
   "source": [
    "target = tf.placeholder(shape=[4,1],dtype=tf.float32)\n",
    "output = tf.concat([u_x0,u_x1,u_t0,f],0)\n",
    "#把u_x0,u_x1,u_t0,f组合，用其与真实值的均方误差做为损失\n",
    "loss = tf.losses.mean_squared_error(target, output)\n"
   ]
  },
  {
   "cell_type": "code",
   "execution_count": null,
   "metadata": {
    "collapsed": true
   },
   "outputs": [],
   "source": [
    "def exact_solution(x,t):\n",
    "    \"\"\"输入x,t，返回准确解\"\"\"\n",
    "    return np.exp(-t)*np.sin(x)\n",
    "\n",
    "def include_noise(x,noise_level = 1e-2):\n",
    "    \"\"\"引入正态分布的噪音\"\"\"\n",
    "    y = x + np.random.randn(np.shape(x)[0]) * noise_level\n",
    "    return y"
   ]
  },
  {
   "cell_type": "code",
   "execution_count": null,
   "metadata": {
    "collapsed": true
   },
   "outputs": [],
   "source": [
    "exact_solution(np.random.uniform(size = 10),np.random.uniform(size = 10))"
   ]
  },
  {
   "cell_type": "code",
   "execution_count": null,
   "metadata": {
    "collapsed": true
   },
   "outputs": [],
   "source": []
  },
  {
   "cell_type": "code",
   "execution_count": null,
   "metadata": {
    "collapsed": true
   },
   "outputs": [],
   "source": []
  },
  {
   "cell_type": "code",
   "execution_count": null,
   "metadata": {
    "collapsed": true
   },
   "outputs": [],
   "source": [
    "np.random.randn(np.shape(x)[0])"
   ]
  },
  {
   "cell_type": "code",
   "execution_count": null,
   "metadata": {
    "collapsed": true
   },
   "outputs": [],
   "source": [
    "help(np.random.randn)"
   ]
  },
  {
   "cell_type": "code",
   "execution_count": null,
   "metadata": {
    "collapsed": true
   },
   "outputs": [],
   "source": [
    "np.random.uniform(size=10)"
   ]
  },
  {
   "cell_type": "code",
   "execution_count": null,
   "metadata": {
    "collapsed": true
   },
   "outputs": [],
   "source": [
    "help(np.random.uniform)"
   ]
  },
  {
   "cell_type": "code",
   "execution_count": null,
   "metadata": {
    "collapsed": true
   },
   "outputs": [],
   "source": [
    "import random"
   ]
  },
  {
   "cell_type": "code",
   "execution_count": null,
   "metadata": {
    "collapsed": true
   },
   "outputs": [],
   "source": [
    "random.gauss(mu=0,sigma=1)"
   ]
  },
  {
   "cell_type": "code",
   "execution_count": null,
   "metadata": {
    "collapsed": true
   },
   "outputs": [],
   "source": [
    "help(random.random )"
   ]
  },
  {
   "cell_type": "code",
   "execution_count": null,
   "metadata": {
    "collapsed": true
   },
   "outputs": [],
   "source": [
    "tf.square(f)+ "
   ]
  },
  {
   "cell_type": "code",
   "execution_count": null,
   "metadata": {
    "collapsed": true
   },
   "outputs": [],
   "source": [
    "u"
   ]
  },
  {
   "cell_type": "code",
   "execution_count": null,
   "metadata": {
    "collapsed": true
   },
   "outputs": [],
   "source": [
    "import keras\n",
    "from keras.models import Sequential\n",
    "from keras.layers import Dense, Activation"
   ]
  },
  {
   "cell_type": "code",
   "execution_count": null,
   "metadata": {
    "collapsed": true
   },
   "outputs": [],
   "source": [
    "model = Sequential()\n",
    "model.add(Dense(32, input_shape=(2,)))\n",
    "model.add(Dense(32, input_shape=(2,)))\n",
    "model.add(Dense(32, input_shape=(2,)))\n",
    "model.add(Dense(1, activation='sigmoid'))\n",
    "model.compile(optimizer='adam',\n",
    "              loss='binary_crossentropy',\n",
    "              metrics=['accuracy'])"
   ]
  },
  {
   "cell_type": "code",
   "execution_count": null,
   "metadata": {
    "collapsed": true
   },
   "outputs": [],
   "source": []
  },
  {
   "cell_type": "code",
   "execution_count": null,
   "metadata": {
    "collapsed": true
   },
   "outputs": [],
   "source": []
  }
 ],
 "metadata": {
  "kernelspec": {
   "display_name": "Python 3",
   "language": "python",
   "name": "python3"
  },
  "language_info": {
   "codemirror_mode": {
    "name": "ipython",
    "version": 3
   },
   "file_extension": ".py",
   "mimetype": "text/x-python",
   "name": "python",
   "nbconvert_exporter": "python",
   "pygments_lexer": "ipython3",
   "version": "3.6.3"
  }
 },
 "nbformat": 4,
 "nbformat_minor": 2
}
