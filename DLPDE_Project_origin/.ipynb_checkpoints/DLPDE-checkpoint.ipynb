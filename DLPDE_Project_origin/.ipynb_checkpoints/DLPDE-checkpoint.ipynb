{
 "cells": [
  {
   "cell_type": "code",
   "execution_count": 1,
   "metadata": {},
   "outputs": [],
   "source": [
    "%load_ext autoreload\n",
    "%autoreload 2"
   ]
  },
  {
   "cell_type": "code",
   "execution_count": 2,
   "metadata": {},
   "outputs": [
    {
     "name": "stderr",
     "output_type": "stream",
     "text": [
      "/home/peng.qiu/anaconda3/lib/python3.6/importlib/_bootstrap.py:219: RuntimeWarning: compiletime version 3.5 of module 'tensorflow.python.framework.fast_tensor_util' does not match runtime version 3.6\n",
      "  return f(*args, **kwds)\n"
     ]
    }
   ],
   "source": [
    "import tensorflow as tf\n",
    "from data_loader.data_loader import *\n",
    "from models.DLPDE_Model import *\n",
    "from trainers.Trainer import *\n",
    "from utils.config import *\n",
    "from utils.dirs import *\n",
    "from utils.utils import get_args\n",
    "from utils.logger import Logger\n",
    "import pickle\n",
    "import math\n",
    "import os\n",
    "import random\n",
    "import sys\n",
    "import time\n",
    "import random\n",
    "import json\n",
    "import kenlm \n",
    "import numpy as np\n",
    "from six.moves import xrange\n",
    "import tensorflow as tf\n",
    "import os\n",
    "import logging\n",
    "import numpy as np\n",
    "logging.basicConfig(level=logging.INFO)\n",
    "import pdb\n",
    "tf_config = tf.ConfigProto(allow_soft_placement = True)\n",
    "tf_config.gpu_options.allow_growth = True\n",
    "os.environ[\"CUDA_VISIBLE_DEVICES\"] = \"\"\n"
   ]
  },
  {
   "cell_type": "code",
   "execution_count": 3,
   "metadata": {
    "collapsed": true
   },
   "outputs": [],
   "source": [
    "config = process_config('./configs/para.json')"
   ]
  },
  {
   "cell_type": "code",
   "execution_count": 4,
   "metadata": {},
   "outputs": [
    {
     "data": {
      "text/plain": [
       "4"
      ]
     },
     "execution_count": 4,
     "metadata": {},
     "output_type": "execute_result"
    }
   ],
   "source": [
    "config.num_layers"
   ]
  },
  {
   "cell_type": "code",
   "execution_count": 6,
   "metadata": {},
   "outputs": [
    {
     "name": "stdout",
     "output_type": "stream",
     "text": [
      "> /home/peng.qiu/DLPDE_Project/models/DLPDE_Model.py(36)build_model()\n",
      "-> self.u_xx = tf.gradients(self.u_x,self.x)[0]\n",
      "(Pdb) c\n"
     ]
    },
    {
     "name": "stderr",
     "output_type": "stream",
     "text": [
      "INFO:root:Num params: 922\n"
     ]
    },
    {
     "name": "stdout",
     "output_type": "stream",
     "text": [
      "WARNING:tensorflow:From /home/peng.qiu/DLPDE_Project/models/DLPDE_Model.py:72: all_variables (from tensorflow.python.ops.variables) is deprecated and will be removed after 2017-03-02.\n",
      "Instructions for updating:\n",
      "Please use tf.global_variables instead.\n"
     ]
    },
    {
     "name": "stderr",
     "output_type": "stream",
     "text": [
      "WARNING:tensorflow:From /home/peng.qiu/DLPDE_Project/models/DLPDE_Model.py:72: all_variables (from tensorflow.python.ops.variables) is deprecated and will be removed after 2017-03-02.\n",
      "Instructions for updating:\n",
      "Please use tf.global_variables instead.\n"
     ]
    }
   ],
   "source": [
    "from data_loader.data_loader import *\n",
    "from models.DLPDE_Model import *\n",
    "from trainers.Trainer import *\n",
    "from utils.config import *\n",
    "from utils.dirs import *\n",
    "tf.reset_default_graph()\n",
    "sess = tf.Session(config = tf_config)\n",
    "# create instance of the model you want\n",
    "model = DLPDE_Model(config)"
   ]
  },
  {
   "cell_type": "code",
   "execution_count": 9,
   "metadata": {},
   "outputs": [],
   "source": [
    "input_train_data,output_train_data,input_train_extra,input_test_data,output_test_data = creat_dataset(config)"
   ]
  },
  {
   "cell_type": "code",
   "execution_count": 13,
   "metadata": {},
   "outputs": [],
   "source": [
    "train_data,test_data, input_train_extra = creat_dataset(config)"
   ]
  },
  {
   "cell_type": "code",
   "execution_count": 20,
   "metadata": {},
   "outputs": [],
   "source": [
    "logger = Logger(sess, config)"
   ]
  },
  {
   "cell_type": "code",
   "execution_count": 21,
   "metadata": {},
   "outputs": [
    {
     "ename": "NameError",
     "evalue": "name 'valid_data' is not defined",
     "output_type": "error",
     "traceback": [
      "\u001b[0;31m---------------------------------------------------------------------------\u001b[0m",
      "\u001b[0;31mNameError\u001b[0m                                 Traceback (most recent call last)",
      "\u001b[0;32m<ipython-input-21-b267107a4616>\u001b[0m in \u001b[0;36m<module>\u001b[0;34m()\u001b[0m\n\u001b[0;32m----> 1\u001b[0;31m \u001b[0mtrainer\u001b[0m \u001b[0;34m=\u001b[0m \u001b[0mTrainer\u001b[0m\u001b[0;34m(\u001b[0m\u001b[0msess\u001b[0m\u001b[0;34m,\u001b[0m \u001b[0mmodel\u001b[0m\u001b[0;34m,\u001b[0m \u001b[0mtrain_data\u001b[0m\u001b[0;34m,\u001b[0m \u001b[0mvalid_data\u001b[0m\u001b[0;34m,\u001b[0m \u001b[0mconfig\u001b[0m\u001b[0;34m,\u001b[0m \u001b[0mlogger\u001b[0m\u001b[0;34m)\u001b[0m\u001b[0;34m\u001b[0m\u001b[0m\n\u001b[0m",
      "\u001b[0;31mNameError\u001b[0m: name 'valid_data' is not defined"
     ]
    }
   ],
   "source": [
    "trainer = Trainer(sess, model, train_data, test_data, config, logger)"
   ]
  },
  {
   "cell_type": "code",
   "execution_count": null,
   "metadata": {
    "collapsed": true
   },
   "outputs": [],
   "source": []
  },
  {
   "cell_type": "code",
   "execution_count": 12,
   "metadata": {},
   "outputs": [
    {
     "data": {
      "text/plain": [
       "(200,)"
      ]
     },
     "execution_count": 12,
     "metadata": {},
     "output_type": "execute_result"
    }
   ],
   "source": [
    "input_train_data[:,0].shape"
   ]
  },
  {
   "cell_type": "code",
   "execution_count": null,
   "metadata": {
    "collapsed": true
   },
   "outputs": [],
   "source": []
  },
  {
   "cell_type": "code",
   "execution_count": null,
   "metadata": {
    "collapsed": true
   },
   "outputs": [],
   "source": []
  },
  {
   "cell_type": "code",
   "execution_count": null,
   "metadata": {
    "collapsed": true
   },
   "outputs": [],
   "source": []
  },
  {
   "cell_type": "code",
   "execution_count": null,
   "metadata": {
    "collapsed": true
   },
   "outputs": [],
   "source": [
    "config:sample_num_0,sample_num_1,sample_num_2, extra_sample_num,num_layers,neural_size"
   ]
  },
  {
   "cell_type": "code",
   "execution_count": null,
   "metadata": {
    "collapsed": true
   },
   "outputs": [],
   "source": [
    "input_placeholder = tf.placeholder(shape=[None,2],dtype=tf.float32)"
   ]
  },
  {
   "cell_type": "code",
   "execution_count": null,
   "metadata": {
    "collapsed": true
   },
   "outputs": [],
   "source": [
    "a = np.random_normal([4,5])"
   ]
  },
  {
   "cell_type": "code",
   "execution_count": null,
   "metadata": {
    "collapsed": true
   },
   "outputs": [],
   "source": [
    "a = np.ones([4,5])"
   ]
  },
  {
   "cell_type": "code",
   "execution_count": null,
   "metadata": {
    "collapsed": true
   },
   "outputs": [],
   "source": [
    "a"
   ]
  },
  {
   "cell_type": "code",
   "execution_count": null,
   "metadata": {
    "collapsed": true
   },
   "outputs": [],
   "source": [
    "b= np.zeros([4,5])"
   ]
  },
  {
   "cell_type": "code",
   "execution_count": null,
   "metadata": {
    "collapsed": true
   },
   "outputs": [],
   "source": [
    "c= tf.losses.mean_squared_error(a,b)"
   ]
  },
  {
   "cell_type": "code",
   "execution_count": null,
   "metadata": {
    "collapsed": true
   },
   "outputs": [],
   "source": [
    "sess = tf.Session()"
   ]
  },
  {
   "cell_type": "code",
   "execution_count": null,
   "metadata": {
    "collapsed": true
   },
   "outputs": [],
   "source": [
    "sess.run(c)"
   ]
  },
  {
   "cell_type": "code",
   "execution_count": null,
   "metadata": {
    "collapsed": true
   },
   "outputs": [],
   "source": []
  },
  {
   "cell_type": "code",
   "execution_count": null,
   "metadata": {
    "collapsed": true
   },
   "outputs": [],
   "source": [
    "np.mean(a)"
   ]
  },
  {
   "cell_type": "code",
   "execution_count": null,
   "metadata": {
    "collapsed": true
   },
   "outputs": [],
   "source": [
    "a[1:3,2:3]"
   ]
  },
  {
   "cell_type": "code",
   "execution_count": null,
   "metadata": {
    "collapsed": true
   },
   "outputs": [],
   "source": [
    "input_placeholder[:,1]"
   ]
  },
  {
   "cell_type": "code",
   "execution_count": null,
   "metadata": {
    "collapsed": true
   },
   "outputs": [],
   "source": [
    "from data_loader.data_loader import *"
   ]
  },
  {
   "cell_type": "code",
   "execution_count": null,
   "metadata": {
    "collapsed": true
   },
   "outputs": [],
   "source": [
    "help(tf.losses.mean_squared_error)"
   ]
  },
  {
   "cell_type": "code",
   "execution_count": null,
   "metadata": {
    "collapsed": true
   },
   "outputs": [],
   "source": [
    "sample_num_0 = 100\n",
    "sample_num_1 = 200\n",
    "sample_num_2 = 50\n",
    "\"\"\"\n",
    "sample_num_0 : x = -pi , t = random s时u的数据 以及 x= pi , t = random s时u的数据\n",
    "sample_num_1 : x = random , t = 0 时 u 的 数据。\n",
    "sample_num_2 : x = random , t = random f 的数据， 用来单独对f的条件进行训练\n",
    "\"\"\"\n",
    "# Input = [x,t]\n",
    "t00 = np.random.uniform(size = sample_num_0)\n",
    "x00 = np.ones(sample_num_0) * (-np.pi)\n",
    "u00 = exact_solution(x00,t00)\n",
    "#x = -pi , t = random s时u的真实值\n",
    "t01 = np.random.uniform(size = sample_num_0)\n",
    "x01 = np.ones(sample_num_0) * (np.pi)\n",
    "u01 = exact_solution(x01,t01)\n",
    "#x = pi , t = random s时u的真实值\n",
    "x1 = np.random.uniform(low = - math.pi , high = math.pi , size = sample_num_1)\n",
    "t1 = np.zeros(sample_num_1)\n",
    "u1 = exact_solution(x1,t1)\n",
    "# x = random , t = 0 时 u 的 真实值。\n",
    "x2 = np.random.uniform(low = - math.pi , high = math.pi , size = sample_num_2)\n",
    "t2 = np.random.uniform(size = sample_num_2)\n",
    "f2 = np.zeros(sample_num_2)\n",
    "# x = random , t = random f 的真实值， 用来单独对f的条件进行训练\n",
    "\n",
    "input_x = np.concatenate([x00,x01,x1,x2])\n",
    "input_t = np.concatenate([t00,t01,t1,t2])\n",
    "input_data = np.stack([input_x,input_t],axis =0)"
   ]
  },
  {
   "cell_type": "code",
   "execution_count": null,
   "metadata": {
    "collapsed": true
   },
   "outputs": [],
   "source": [
    "I = input_data.T"
   ]
  },
  {
   "cell_type": "code",
   "execution_count": null,
   "metadata": {
    "collapsed": true
   },
   "outputs": [],
   "source": [
    "a = I[0:10]"
   ]
  },
  {
   "cell_type": "code",
   "execution_count": null,
   "metadata": {
    "collapsed": true
   },
   "outputs": [],
   "source": [
    "x_batch = a[:,0]"
   ]
  },
  {
   "cell_type": "code",
   "execution_count": null,
   "metadata": {
    "collapsed": true
   },
   "outputs": [],
   "source": [
    "x_batch"
   ]
  },
  {
   "cell_type": "code",
   "execution_count": null,
   "metadata": {
    "collapsed": true
   },
   "outputs": [],
   "source": [
    "np.reshape(x_batch,[-1,1])"
   ]
  },
  {
   "cell_type": "code",
   "execution_count": null,
   "metadata": {
    "collapsed": true
   },
   "outputs": [],
   "source": [
    "tf.reset_default_graph()\n",
    "def neural_net(input,scope,num_layers = 4,neural_size = 20, output_size = 1):\n",
    "    \"\"\"neural_size:中间节点数，output_size:输出节点数\"\"\"\n",
    "    layer_tmp = input\n",
    "    for i in range(num_layers-1):\n",
    "        layer_tmp = tf.contrib.layers.fully_connected(layer_tmp,neural_size)\n",
    "    u = tf.contrib.layers.fully_connected(layer_tmp,output_size)\n",
    "    return u\n",
    "with tf.variable_scope('forward') as scope:\n",
    "    x = tf.placeholder(shape=[None,1],dtype=tf.float32)\n",
    "    #None表示batch_size \n",
    "    t = tf.placeholder(shape=[None,1],dtype=tf.float32)\n",
    "    input = tf.concat([x,t],1)\n",
    "    u = neural_net(input,scope)\n",
    "    v = tf.Variable(tf.random_normal(shape=[1,1]), trainable=True, dtype=tf.float32)\n",
    "    #未知参数\n",
    "    u_t = tf.gradients(u,t)[0]\n",
    "    u_x = tf.gradients(u,t)[0]\n",
    "    u_xx = tf.gradients(u_x,x)[0]\n",
    "    f = u_t-v*u_xx"
   ]
  },
  {
   "cell_type": "code",
   "execution_count": null,
   "metadata": {
    "collapsed": true
   },
   "outputs": [],
   "source": [
    "zero = tf.fill(tf.shape(f), 0.0)"
   ]
  },
  {
   "cell_type": "code",
   "execution_count": null,
   "metadata": {
    "collapsed": true
   },
   "outputs": [],
   "source": [
    "input_data.T.shape"
   ]
  },
  {
   "cell_type": "code",
   "execution_count": null,
   "metadata": {
    "collapsed": true
   },
   "outputs": [],
   "source": [
    "f.shape"
   ]
  },
  {
   "cell_type": "code",
   "execution_count": null,
   "metadata": {
    "collapsed": true
   },
   "outputs": [],
   "source": [
    "tf.gradients(u,t)"
   ]
  },
  {
   "cell_type": "code",
   "execution_count": null,
   "metadata": {
    "collapsed": true
   },
   "outputs": [],
   "source": [
    "tf.reset_default_graph()\n",
    "x = tf.placeholder(shape=[None,1],dtype=tf.float32)\n",
    "#None表示batch_size \n",
    "t = tf.placeholder(shape=[None,1],dtype=tf.float32)\n",
    "input = tf.concat([t,x],1)\n",
    "layer_tmp = tf.contrib.layers.fully_connected(input,20)"
   ]
  },
  {
   "cell_type": "code",
   "execution_count": null,
   "metadata": {
    "collapsed": true
   },
   "outputs": [],
   "source": [
    "layer_tmp"
   ]
  },
  {
   "cell_type": "code",
   "execution_count": null,
   "metadata": {
    "collapsed": true
   },
   "outputs": [],
   "source": []
  },
  {
   "cell_type": "code",
   "execution_count": null,
   "metadata": {
    "collapsed": true
   },
   "outputs": [],
   "source": [
    "input_data_noise = include_noise(input_data)"
   ]
  },
  {
   "cell_type": "code",
   "execution_count": null,
   "metadata": {
    "collapsed": true
   },
   "outputs": [],
   "source": [
    "raise IOError(\"wrong\")"
   ]
  },
  {
   "cell_type": "code",
   "execution_count": null,
   "metadata": {
    "collapsed": true
   },
   "outputs": [],
   "source": [
    "list(input_data.shape)"
   ]
  },
  {
   "cell_type": "code",
   "execution_count": null,
   "metadata": {
    "collapsed": true
   },
   "outputs": [],
   "source": []
  },
  {
   "cell_type": "code",
   "execution_count": null,
   "metadata": {
    "collapsed": true
   },
   "outputs": [],
   "source": [
    "len(input_t)"
   ]
  },
  {
   "cell_type": "code",
   "execution_count": null,
   "metadata": {
    "collapsed": true
   },
   "outputs": [],
   "source": [
    "input_data = np.stack([input_x,input_t],axis =0)"
   ]
  },
  {
   "cell_type": "code",
   "execution_count": null,
   "metadata": {
    "collapsed": true
   },
   "outputs": [],
   "source": [
    "train_data = np.concatenate([U_x0,U_x1,U_t0,F])\n",
    "train_data_noise = include_noise(train_data)\n",
    "train_data_noise = np.reshape(train_data_noise,[4,-1])"
   ]
  },
  {
   "cell_type": "code",
   "execution_count": null,
   "metadata": {
    "collapsed": true
   },
   "outputs": [],
   "source": [
    "train_data_noise.shape"
   ]
  },
  {
   "cell_type": "markdown",
   "metadata": {},
   "source": [
    "对于热传导问题：\n",
    "\n",
    "$u_t(x,t) = u_{xx}(x,t), -\\pi < x < \\pi, 0<t<T$\n",
    "\n",
    "$u(-\\pi,t) = u(\\pi,t) = 0 , 0< t < T$\n",
    "\n",
    "$u(x,0) = sin(x)$\n",
    "\n",
    "T = 1\n",
    "\n",
    "准确解为：\n",
    "\n",
    "$u(x,t) = e^{-t} sin(x)$\n",
    "\n",
    "假设v是未知参数,根据数据对v的值进行计算\n",
    "\n",
    "$u_t(x,t) - v * u_{xx}(x,t), -\\pi < x < \\pi, 0<t<T$\n",
    "\n",
    "此时，v的真实值为1"
   ]
  },
  {
   "cell_type": "code",
   "execution_count": null,
   "metadata": {
    "collapsed": true
   },
   "outputs": [],
   "source": [
    "tf.reset_default_graph()\n",
    "def neural_net(input,scope,num_layers = 4,neural_size = 20, output_size = 1):\n",
    "    \"\"\"neural_size:中间节点数，output_size:输出节点数\"\"\"\n",
    "    layer_tmp = input\n",
    "    for i in range(num_layers-1):\n",
    "        layer_tmp = tf.contrib.layers.fully_connected(layer_tmp,neural_size)\n",
    "    u = tf.contrib.layers.fully_connected(layer_tmp,output_size)\n",
    "    return u\n",
    "\n",
    "with tf.variable_scope('forward') as scope:\n",
    "    x = tf.placeholder(shape=[1,1],dtype=tf.float32)\n",
    "    #[None,1]\n",
    "    t = tf.placeholder(shape=[1,1],dtype=tf.float32)\n",
    "    input = tf.concat([t,x],1)\n",
    "    u = neural_net(input,scope)\n",
    "    v = tf.Variable(tf.random_normal(shape=[1,1]), trainable=True, dtype=tf.float32)\n",
    "    #未知参数\n",
    "    u_t = tf.gradients(u,t)[0]\n",
    "    u_x = tf.gradients(u,t)[0]\n",
    "    u_xx = tf.gradients(u_x,x)[0]\n",
    "    f = u_t-v*u_xx\n",
    "    \n",
    "with tf.variable_scope('forward',reuse=True) as scope:\n",
    "    x0 = tf.constant(value=-math.pi,shape=[1,1])\n",
    "    input_x0 = tf.concat([t,x0],1)\n",
    "    u_x0 = neural_net(input_x0,scope)\n",
    "\n",
    "with tf.variable_scope('forward',reuse=True) as scope:\n",
    "    x1 = tf.constant(value=math.pi,shape=[1,1])\n",
    "    input_x1 = tf.concat([t,x1],1)\n",
    "    u_x1 = neural_net(input_x1,scope)\n",
    "    \n",
    "with tf.variable_scope('forward',reuse=True) as scope:\n",
    "    t0 = tf.constant(value=0.0,shape=[1,1])\n",
    "    input_t0 = tf.concat([t0,x],1)\n",
    "    u_t0 = neural_net(input_t0,scope)"
   ]
  },
  {
   "cell_type": "code",
   "execution_count": null,
   "metadata": {
    "collapsed": true
   },
   "outputs": [],
   "source": [
    "target = tf.placeholder(shape=[4,1],dtype=tf.float32)\n",
    "output = tf.concat([u_x0,u_x1,u_t0,f],0)\n",
    "#把u_x0,u_x1,u_t0,f组合，用其与真实值的均方误差做为损失\n",
    "loss = tf.losses.mean_squared_error(target, output)\n"
   ]
  },
  {
   "cell_type": "code",
   "execution_count": null,
   "metadata": {
    "collapsed": true
   },
   "outputs": [],
   "source": [
    "def exact_solution(x,t):\n",
    "    \"\"\"输入x,t，返回准确解\"\"\"\n",
    "    return np.exp(-t)*np.sin(x)\n",
    "\n",
    "def include_noise(x,noise_level = 1e-2):\n",
    "    \"\"\"引入正态分布的噪音\"\"\"\n",
    "    y = x + np.random.randn(np.shape(x)[0]) * noise_level\n",
    "    return y"
   ]
  },
  {
   "cell_type": "code",
   "execution_count": null,
   "metadata": {
    "collapsed": true
   },
   "outputs": [],
   "source": [
    "exact_solution(np.random.uniform(size = 10),np.random.uniform(size = 10))"
   ]
  },
  {
   "cell_type": "code",
   "execution_count": null,
   "metadata": {
    "collapsed": true
   },
   "outputs": [],
   "source": []
  },
  {
   "cell_type": "code",
   "execution_count": null,
   "metadata": {
    "collapsed": true
   },
   "outputs": [],
   "source": []
  },
  {
   "cell_type": "code",
   "execution_count": null,
   "metadata": {
    "collapsed": true
   },
   "outputs": [],
   "source": [
    "np.random.randn(np.shape(x)[0])"
   ]
  },
  {
   "cell_type": "code",
   "execution_count": null,
   "metadata": {
    "collapsed": true
   },
   "outputs": [],
   "source": [
    "help(np.random.randn)"
   ]
  },
  {
   "cell_type": "code",
   "execution_count": null,
   "metadata": {
    "collapsed": true
   },
   "outputs": [],
   "source": [
    "np.random.uniform(size=10)"
   ]
  },
  {
   "cell_type": "code",
   "execution_count": null,
   "metadata": {
    "collapsed": true
   },
   "outputs": [],
   "source": [
    "help(np.random.uniform)"
   ]
  },
  {
   "cell_type": "code",
   "execution_count": null,
   "metadata": {
    "collapsed": true
   },
   "outputs": [],
   "source": [
    "import random"
   ]
  },
  {
   "cell_type": "code",
   "execution_count": null,
   "metadata": {
    "collapsed": true
   },
   "outputs": [],
   "source": [
    "random.gauss(mu=0,sigma=1)"
   ]
  },
  {
   "cell_type": "code",
   "execution_count": null,
   "metadata": {
    "collapsed": true
   },
   "outputs": [],
   "source": [
    "help(random.random )"
   ]
  },
  {
   "cell_type": "code",
   "execution_count": null,
   "metadata": {
    "collapsed": true
   },
   "outputs": [],
   "source": [
    "tf.square(f)+ "
   ]
  },
  {
   "cell_type": "code",
   "execution_count": null,
   "metadata": {
    "collapsed": true
   },
   "outputs": [],
   "source": [
    "u"
   ]
  },
  {
   "cell_type": "code",
   "execution_count": null,
   "metadata": {
    "collapsed": true
   },
   "outputs": [],
   "source": [
    "import keras\n",
    "from keras.models import Sequential\n",
    "from keras.layers import Dense, Activation"
   ]
  },
  {
   "cell_type": "code",
   "execution_count": null,
   "metadata": {
    "collapsed": true
   },
   "outputs": [],
   "source": [
    "model = Sequential()\n",
    "model.add(Dense(32, input_shape=(2,)))\n",
    "model.add(Dense(32, input_shape=(2,)))\n",
    "model.add(Dense(32, input_shape=(2,)))\n",
    "model.add(Dense(1, activation='sigmoid'))\n",
    "model.compile(optimizer='adam',\n",
    "              loss='binary_crossentropy',\n",
    "              metrics=['accuracy'])"
   ]
  },
  {
   "cell_type": "code",
   "execution_count": null,
   "metadata": {
    "collapsed": true
   },
   "outputs": [],
   "source": []
  },
  {
   "cell_type": "code",
   "execution_count": null,
   "metadata": {
    "collapsed": true
   },
   "outputs": [],
   "source": []
  }
 ],
 "metadata": {
  "kernelspec": {
   "display_name": "Python 3",
   "language": "python",
   "name": "python3"
  },
  "language_info": {
   "codemirror_mode": {
    "name": "ipython",
    "version": 3
   },
   "file_extension": ".py",
   "mimetype": "text/x-python",
   "name": "python",
   "nbconvert_exporter": "python",
   "pygments_lexer": "ipython3",
   "version": "3.6.3"
  }
 },
 "nbformat": 4,
 "nbformat_minor": 2
}
